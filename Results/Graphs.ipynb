{
 "cells": [
  {
   "cell_type": "code",
   "execution_count": null,
   "metadata": {
    "id": "kLBorAxs341_"
   },
   "outputs": [],
   "source": [
    "pip install tensorboard"
   ]
  },
  {
   "cell_type": "code",
   "execution_count": null,
   "metadata": {
    "id": "3I102LmM4Ae0"
   },
   "outputs": [],
   "source": [
    "%load_ext tensorboard"
   ]
  },
  {
   "cell_type": "code",
   "execution_count": null,
   "metadata": {
    "id": "C614nlf2BEHj"
   },
   "outputs": [],
   "source": [
    "import torch\n",
    "import pickle\n",
    "import matplotlib.pyplot as plt\n",
    "import numpy as np\n",
    "from torch.utils.tensorboard import SummaryWriter"
   ]
  },
  {
   "cell_type": "code",
   "execution_count": null,
   "metadata": {
    "id": "Jvp0kxe0A_S2"
   },
   "outputs": [],
   "source": [
    "RootPath = \"/PickleFiles/\"\n",
    "writer1 = SummaryWriter(\"./runs/2-Way-Classifier\")\n",
    "writer2 = SummaryWriter(\"./runs/3-Way-WeightedClassifier\")\n",
    "writer3 = SummaryWriter(\"./runs/3-Way-NonWeightedClassifier\")\n",
    "writer4 = SummaryWriter(\"./runs/4-Way-WeightedClassifier\")\n",
    "writer5 = SummaryWriter(\"./runs/4-Way-NonWeightedClassifier\")\n",
    "\n",
    "Fold0 = pickle.load( open(RootPath+\"0-Fold-Files-Binary.txt\", \"rb\"))\n",
    "Fold1 = pickle.load( open(RootPath+\"1-Fold-Files-Binary.txt\", \"rb\"))\n",
    "Fold2 = pickle.load( open(RootPath+\"2-Fold-Files-Binary.txt\", \"rb\"))\n",
    "Fold3 = pickle.load( open(RootPath+\"3-Fold-Files-Binary.txt\", \"rb\"))\n",
    "Fold4 = pickle.load( open(RootPath+\"4-Fold-Files-Binary.txt\", \"rb\"))\n",
    "\n",
    "ThreeWayWeighted = pickle.load( open(RootPath+\"3-Way-Classifier-WeightedLoss.txt\", \"rb\"))\n",
    "ThreeWayNonWeighted = pickle.load( open(RootPath+\"3-Way-Classifier-NonWeightedLoss.txt\", \"rb\"))\n",
    "FourWayWeighted = pickle.load( open(RootPath+\"4-Way-Classifier-WeightedLoss.txt\", \"rb\"))\n",
    "FourWayNonWeighted = pickle.load( open(RootPath+\"4-Way-Classifier-NonWeightedLoss.txt\", \"rb\"))\n",
    "\n",
    "for i in range(250):\n",
    "    for key in Fold0[i][0].keys():\n",
    "        trainAvg= (Fold0[i][0][key] + Fold1[i][0][key] + Fold2[i][0][key] + Fold3[i][0][key] + Fold4[i][0][key])/5.0\n",
    "        testAvg= (Fold0[i][1][key] + Fold1[i][1][key] + Fold2[i][1][key] + Fold3[i][1][key] + Fold4[i][1][key])/5.0\n",
    "        writer1.add_scalars(key, {\"train\":trainAvg,\"test\":testAvg},i)\n",
    "\n",
    "    for key in ThreeWayWeighted[i][0].keys():\n",
    "        writer2.add_scalars(key, {\"train\":ThreeWayWeighted[i][0][key],\"test\":ThreeWayWeighted[i][1][key]},i)\n",
    "    for key in ThreeWayNonWeighted[i][0].keys():\n",
    "        writer3.add_scalars(key, {\"train\":ThreeWayNonWeighted[i][0][key],\"test\":ThreeWayNonWeighted[i][1][key]},i)\n",
    "    for key in FourWayWeighted[i][0].keys():\n",
    "        writer4.add_scalars(key, {\"train\":FourWayWeighted[i][0][key],\"test\":FourWayWeighted[i][1][key]},i)\n",
    "    for key in FourWayNonWeighted[i][0].keys():\n",
    "        writer5.add_scalars(key, {\"train\":FourWayNonWeighted[i][0][key],\"test\":FourWayNonWeighted[i][1][key]},i)\n",
    "writer1.close()\n",
    "writer2.close()\n",
    "writer3.close()\n",
    "writer4.close()\n",
    "writer5.close()"
   ]
  },
  {
   "cell_type": "code",
   "execution_count": null,
   "metadata": {
    "id": "RsaBJQwqB8ZN"
   },
   "outputs": [],
   "source": [
    "%tensorboard --logdir \"/content/runs\""
   ]
  }
 ],
 "metadata": {
  "colab": {
   "collapsed_sections": [],
   "name": "FYP Tensorboard.ipynb",
   "provenance": []
  },
  "kernelspec": {
   "display_name": "Python 3",
   "language": "python",
   "name": "python3"
  },
  "language_info": {
   "codemirror_mode": {
    "name": "ipython",
    "version": 3
   },
   "file_extension": ".py",
   "mimetype": "text/x-python",
   "name": "python",
   "nbconvert_exporter": "python",
   "pygments_lexer": "ipython3",
   "version": "3.7.4"
  }
 },
 "nbformat": 4,
 "nbformat_minor": 1
}
